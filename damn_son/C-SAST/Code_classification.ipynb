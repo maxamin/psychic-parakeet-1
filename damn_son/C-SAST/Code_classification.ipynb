{
 "cells": [
  {
   "cell_type": "markdown",
   "metadata": {
    "colab_type": "text",
    "id": "UbWoRMZWmqor"
   },
   "source": [
    "This notebook is just a PoC to check if it's possible to clasify vulnerable code.\n",
    "\n",
    "\n",
    "## Datasets:\n",
    "\n",
    "There  are  two  widely  used  sources  ofvulnerability  data  maintained  by  the  NIST:  the  NVD  which  contains  vulnerabilities  in  production  software,  andthe  SARD  project which  contains  production,  synthetic,and  academic  security  flaws  or  vulnerabilities.  In  the  NVD,each  vulnerability  has  a  unique  Common  Vulnerabilities  andExposures  IDentifier  (CVE  ID)  and  a  Common  WeaknessEnumeration  IDentifier  (CWE  ID)  that  indicates  the  type  ofthe  vulnerability  in  question.  We  collect  the  programs  thatcontain  one  or  multiple  vulnerabilities.  In  the  SARD,  eachprogram (i.e., test case) corresponds to one or multiple CWEIDs because a program can have multiple types of vulnerabil-ities. Therefore, programs with one or multiple CWE IDs arecollected.\n",
    "\n",
    "https://nvd.nist.gov/vuln/search\n",
    "\n",
    "https://samate.nist.gov/SARD/search.php \n",
    "\n",
    "Once the dataset has been downloaded use the following commands to save all files in one folder:\n",
    "\n",
    "```bash\n",
    "$ mkdir all/\n",
    "$ find . -type f \\( -iname \"*.php\" \\) -exec mv {} all/ \\;\n",
    "$ ls all | wc -l\n",
    "```\n",
    "\n",
    "# Remove comentaries .java\n",
    "os.system(\" find . \\( -type d -name .git -prune \\) -o -type f -print0 | xargs -0 sed -i 's/[\\/*]//g' \")\n",
    "\n",
    "### Common vulnerabilities\n",
    "\n",
    "At the moment, this tool can discover the following vulnerabilities:\n",
    "\n",
    "- PHP:\n",
    "    - CWE-810: OWASP Top Ten 2010 Category A1 - Injection\n",
    "\n",
    "\n",
    "\n",
    "## Algorithms\n",
    "\n",
    "Machine  learning  algorithms  cannot  learn  from  raw  text;so  several  steps  of  processing  the  dataset  are  needed  beforetraining  the  algorithm.  First,  the  code  snippets  need  to  beconverted  into  numerical  feature  vectors.  We  used  bag-of-word  model,  a  method  to  represent  each  unique  word  as  afeature. Second, we selected features extracted a subset fromthe dataset and used them for training the machine algorithm.\n",
    "\n",
    "\n",
    "## Papers y articulos basados:\n",
    "\n",
    "https://arxiv.org/pdf/1801.01681.pdf\n",
    "\n",
    "https://arxiv.org/pdf/1803.04497.pdf\n",
    "\n",
    "https://realpython.com/python-keras-text-classification/\n",
    "\n",
    "https://arxiv.org/pdf/1809.07945.pdf\n",
    "\n",
    "https://medium.com/jatana/report-on-text-classification-using-cnn-rnn-han-f0e887214d5f"
   ]
  },
  {
   "cell_type": "markdown",
   "metadata": {},
   "source": [
    "## Code to create dataset with PHP files \n",
    "\n",
    "- CWE-810: OWASP Top Ten 2010 Category A1 - Injection\n",
    "- 4913 Files"
   ]
  },
  {
   "cell_type": "code",
   "execution_count": 17,
   "metadata": {
    "scrolled": false
   },
   "outputs": [
    {
     "name": "stdout",
     "output_type": "stream",
     "text": [
      "<?php\n",
      "\n",
      "\n",
      "\n",
      "$var2 = $_GET['UserData'];\n",
      "\n",
      "$var3 = filter_var($var2, FILTER_SANITIZE_EMAIL);\n",
      "if (filter_var($var3, FILTER_VALIDATE_EMAIL))\n",
      "  $var2 = $var3 ;\n",
      "else\n",
      "  $var2 = \"\" ;\n",
      "\n",
      "$var0 = \"cat ' $var2 '\";\n",
      "\n",
      "//flaw\n",
      "$var1 = system($var0);\n",
      "\n",
      "\n",
      "?>\n",
      "['{\"id\": 0, \"vulnerable\": \"True\", \"code\": \"<?php\\\\\\\\n\\\\\\\\n\\\\\\\\n\\\\\\\\n$var2 = $_GET[\\'UserData\\'];\\\\\\\\n\\\\\\\\n$var3 = filter_var($var2, FILTER_SANITIZE_EMAIL);\\\\\\\\nif (filter_var($var3, FILTER_VALIDATE_EMAIL))\\\\\\\\n  $var2 = $var3 ;\\\\\\\\nelse\\\\\\\\n  $var2 = \\\\\\\\\\\\\"\\\\\\\\\\\\\" ;\\\\\\\\n\\\\\\\\n$var0 = \\\\\\\\\\\\\"cat \\'\\\\\\\\\\\\\". $var2 . \\\\\\\\\\\\\"\\'\\\\\\\\\\\\\";\\\\\\\\n\\\\\\\\n//flaw\\\\\\\\n$var1 = system($var0);\\\\\\\\n\\\\\\\\n\\\\\\\\n?>\"}', '{\"id\": 1, \"vulnerable\": \"True\", \"code\": \"<?php\\\\\\\\n\\\\\\\\n\\\\\\\\n\\\\\\\\n$var2 = $_GET[\\'UserData\\'];\\\\\\\\n\\\\\\\\n$var3 = filter_var($var2, FILTER_SANITIZE_EMAIL);\\\\\\\\nif (filter_var($var3, FILTER_VALIDATE_EMAIL))\\\\\\\\n  $var2 = $var3 ;\\\\\\\\nelse\\\\\\\\n  $var2 = \\\\\\\\\\\\\"\\\\\\\\\\\\\" ;\\\\\\\\n\\\\\\\\n$var0 = \\\\\\\\\\\\\"cat \\' $var2 \\'\\\\\\\\\\\\\";\\\\\\\\n\\\\\\\\n//flaw\\\\\\\\n$var1 = system($var0);\\\\\\\\n\\\\\\\\n\\\\\\\\n?>\"}', '{\"id\": 2, \"vulnerable\": \"True\", \"code\": \"<?php\\\\\\\\n\\\\\\\\n\\\\\\\\n\\\\\\\\n$var2 = $_GET[\\'UserData\\'];\\\\\\\\n\\\\\\\\n$var3 = filter_var($var2, FILTER_SANITIZE_EMAIL);\\\\\\\\nif (filter_var($var3, FILTER_VALIDATE_EMAIL))\\\\\\\\n  $var2 = $var3 ;\\\\\\\\nelse\\\\\\\\n  $var2 = \\\\\\\\\\\\\"\\\\\\\\\\\\\" ;\\\\\\\\n\\\\\\\\n$var0 = sprintf(\\\\\\\\\\\\\"cat \\'%s\\'\\\\\\\\\\\\\", $var2);\\\\\\\\n\\\\\\\\n//flaw\\\\\\\\n$var1 = system($var0);\\\\\\\\n\\\\\\\\n\\\\\\\\n?>\"}', '{\"id\": 3, \"vulnerable\": \"True\", \"code\": \"<?php\\\\\\\\n\\\\\\\\n\\\\\\\\n\\\\\\\\n$var2 = $_GET[\\'UserData\\'];\\\\\\\\n\\\\\\\\n$var3 = filter_var($var2, FILTER_SANITIZE_EMAIL);\\\\\\\\nif (filter_var($var3, FILTER_VALIDATE_EMAIL))\\\\\\\\n  $var2 = $var3 ;\\\\\\\\nelse\\\\\\\\n  $var2 = \\\\\\\\\\\\\"\\\\\\\\\\\\\" ;\\\\\\\\n\\\\\\\\n$var0 = \\\\\\\\\\\\\"ls \\'\\\\\\\\\\\\\". $var2 . \\\\\\\\\\\\\"\\'\\\\\\\\\\\\\";\\\\\\\\n\\\\\\\\n//flaw\\\\\\\\n$var1 = system($var0);\\\\\\\\n\\\\\\\\n\\\\\\\\n?>\"}', '{\"id\": 4, \"vulnerable\": \"True\", \"code\": \"<?php\\\\\\\\n\\\\\\\\n\\\\\\\\n\\\\\\\\n$var2 = $_GET[\\'UserData\\'];\\\\\\\\n\\\\\\\\n$var3 = filter_var($var2, FILTER_SANITIZE_EMAIL);\\\\\\\\nif (filter_var($var3, FILTER_VALIDATE_EMAIL))\\\\\\\\n  $var2 = $var3 ;\\\\\\\\nelse\\\\\\\\n  $var2 = \\\\\\\\\\\\\"\\\\\\\\\\\\\" ;\\\\\\\\n\\\\\\\\n$var0 = \\\\\\\\\\\\\"ls \\' $var2 \\'\\\\\\\\\\\\\";\\\\\\\\n\\\\\\\\n//flaw\\\\\\\\n$var1 = system($var0);\\\\\\\\n\\\\\\\\n\\\\\\\\n?>\"}', '{\"id\": 5, \"vulnerable\": \"True\", \"code\": \"<?php\\\\\\\\n\\\\\\\\n\\\\\\\\n\\\\\\\\n$var2 = $_GET[\\'UserData\\'];\\\\\\\\n\\\\\\\\n$var3 = filter_var($var2, FILTER_SANITIZE_EMAIL);\\\\\\\\nif (filter_var($var3, FILTER_VALIDATE_EMAIL))\\\\\\\\n  $var2 = $var3 ;\\\\\\\\nelse\\\\\\\\n  $var2 = \\\\\\\\\\\\\"\\\\\\\\\\\\\" ;\\\\\\\\n\\\\\\\\n$var0 = sprintf(\\\\\\\\\\\\\"ls \\'%s\\'\\\\\\\\\\\\\", $var2);\\\\\\\\n\\\\\\\\n//flaw\\\\\\\\n$var1 = system($var0);\\\\\\\\n\\\\\\\\n\\\\\\\\n?>\"}', '{\"id\": 6, \"vulnerable\": \"True\", \"code\": \"<?php\\\\\\\\n\\\\\\\\n\\\\\\\\n\\\\\\\\n$var2 = $_GET[\\'UserData\\'];\\\\\\\\n\\\\\\\\n$var3 = filter_var($var2, FILTER_SANITIZE_FULL_SPECIAL_CHARS);\\\\\\\\n  $var2 = $var3 ;\\\\\\\\n     \\\\\\\\n\\\\\\\\n$var0 = \\\\\\\\\\\\\"cat \\'\\\\\\\\\\\\\". $var2 . \\\\\\\\\\\\\"\\'\\\\\\\\\\\\\";\\\\\\\\n\\\\\\\\n//flaw\\\\\\\\n$var1 = system($var0);\\\\\\\\n\\\\\\\\n\\\\\\\\n?>\"}', '{\"id\": 7, \"vulnerable\": \"True\", \"code\": \"<?php\\\\\\\\n\\\\\\\\n\\\\\\\\n\\\\\\\\n$var2 = $_GET[\\'UserData\\'];\\\\\\\\n\\\\\\\\n$var3 = filter_var($var2, FILTER_SANITIZE_FULL_SPECIAL_CHARS);\\\\\\\\n  $var2 = $var3 ;\\\\\\\\n     \\\\\\\\n\\\\\\\\n$var0 = \\\\\\\\\\\\\"cat \\' $var2 \\'\\\\\\\\\\\\\";\\\\\\\\n\\\\\\\\n//flaw\\\\\\\\n$var1 = system($var0);\\\\\\\\n\\\\\\\\n\\\\\\\\n?>\"}', '{\"id\": 8, \"vulnerable\": \"True\", \"code\": \"<?php\\\\\\\\n\\\\\\\\n\\\\\\\\n\\\\\\\\n$var2 = $_GET[\\'UserData\\'];\\\\\\\\n\\\\\\\\n$var3 = filter_var($var2, FILTER_SANITIZE_FULL_SPECIAL_CHARS);\\\\\\\\n  $var2 = $var3 ;\\\\\\\\n     \\\\\\\\n\\\\\\\\n$var0 = sprintf(\\\\\\\\\\\\\"cat \\'%s\\'\\\\\\\\\\\\\", $var2);\\\\\\\\n\\\\\\\\n//flaw\\\\\\\\n$var1 = system($var0);\\\\\\\\n\\\\\\\\n\\\\\\\\n?>\"}', '{\"id\": 9, \"vulnerable\": \"True\", \"code\": \"<?php\\\\\\\\n\\\\\\\\n\\\\\\\\n\\\\\\\\n$var2 = $_GET[\\'UserData\\'];\\\\\\\\n\\\\\\\\n$var3 = filter_var($var2, FILTER_SANITIZE_FULL_SPECIAL_CHARS);\\\\\\\\n  $var2 = $var3 ;\\\\\\\\n     \\\\\\\\n\\\\\\\\n$var0 = \\\\\\\\\\\\\"ls \\'\\\\\\\\\\\\\". $var2 . \\\\\\\\\\\\\"\\'\\\\\\\\\\\\\";\\\\\\\\n\\\\\\\\n//flaw\\\\\\\\n$var1 = system($var0);\\\\\\\\n\\\\\\\\n\\\\\\\\n?>\"}']\n"
     ]
    }
   ],
   "source": [
    "import os\n",
    "import json\n",
    "import re\n",
    "\n",
    "dirlist_sqli_php = os.listdir(\"datasets/sqli_php/\")\n",
    "\n",
    "datasets = []\n",
    "dataset = {\"id\": \"\", \"vulnerable\":\"\", \"code\": \"\"}\n",
    "dataset_id = 0\n",
    "for file in dirlist_sqli_php:\n",
    "    with open(\"datasets/sqli_php/\"+file, \"r\") as f:\n",
    "        code = f.read()\n",
    "        \n",
    "        # Remove comments\n",
    "        code = re.sub('\\/[^)]*\\*\\/', '', code)\n",
    "        \n",
    "        # Get vars (without $_POST) and remove duplicates\n",
    "        vars_list = re.findall('[$](?!_)\\S\\w+', code)\n",
    "        vars_list = list(set(vars_list))\n",
    "        \n",
    "        # Create dict with old and new vars\n",
    "        count = 0\n",
    "        vars_dict = {}\n",
    "        for var in vars_list:\n",
    "            old_var = var\n",
    "            new_var = \"$var\"+str(count)\n",
    "            vars_dict[old_var] = new_var\n",
    "            count = count + 1\n",
    "        #print(vars_dict)\n",
    "        \n",
    "        # Replace vars\n",
    "        for old_var, new_var in vars_dict.items():\n",
    "            code = code.replace(old_var, new_var)     \n",
    "        #print(code)\n",
    "        \n",
    "        # Print one code\n",
    "        if dataset_id == 1:\n",
    "            print(code)\n",
    "        \n",
    "        # Remove linebreaks, tabs and double quotes to add into json\n",
    "        code = code.replace(\"\\n\", \"\\\\n\").replace(\"\\\"\", \"\\\\\\\"\").replace(\"\\t\", \"\\\\t\")\n",
    "        \n",
    "        dataset['code'] = code\n",
    "        dataset['vulnerable'] = \"True\"\n",
    "        \n",
    "    dataset['id'] = dataset_id\n",
    "    dataset_id = dataset_id + 1\n",
    "    dataset_json = json.dumps(dataset)\n",
    "    datasets.append(dataset_json)\n",
    "print(datasets[:10])        \n"
   ]
  },
  {
   "cell_type": "code",
   "execution_count": 71,
   "metadata": {
    "colab": {},
    "colab_type": "code",
    "id": "SLyprCKLmsma"
   },
   "outputs": [
    {
     "ename": "NameError",
     "evalue": "name 'dirlist' is not defined",
     "output_type": "error",
     "traceback": [
      "\u001b[0;31m---------------------------------------------------------------------------\u001b[0m",
      "\u001b[0;31mNameError\u001b[0m                                 Traceback (most recent call last)",
      "\u001b[0;32m<ipython-input-71-41ada783eff9>\u001b[0m in \u001b[0;36m<module>\u001b[0;34m\u001b[0m\n\u001b[1;32m      3\u001b[0m \u001b[0;34m\u001b[0m\u001b[0m\n\u001b[1;32m      4\u001b[0m \u001b[0mdirlist_sqli_java\u001b[0m \u001b[0;34m=\u001b[0m \u001b[0mos\u001b[0m\u001b[0;34m.\u001b[0m\u001b[0mlistdir\u001b[0m\u001b[0;34m(\u001b[0m\u001b[0;34m\"datasets/sqli_java/\"\u001b[0m\u001b[0;34m)\u001b[0m\u001b[0;34m\u001b[0m\u001b[0m\n\u001b[0;32m----> 5\u001b[0;31m \u001b[0mprint\u001b[0m\u001b[0;34m(\u001b[0m\u001b[0;34m\"[*] \"\u001b[0m \u001b[0;34m+\u001b[0m \u001b[0mstr\u001b[0m\u001b[0;34m(\u001b[0m\u001b[0mlen\u001b[0m\u001b[0;34m(\u001b[0m\u001b[0mdirlist\u001b[0m\u001b[0;34m)\u001b[0m\u001b[0;34m)\u001b[0m \u001b[0;34m+\u001b[0m \u001b[0;34m\" files are importing...\"\u001b[0m\u001b[0;34m)\u001b[0m\u001b[0;34m\u001b[0m\u001b[0m\n\u001b[0m\u001b[1;32m      6\u001b[0m \u001b[0;34m\u001b[0m\u001b[0m\n\u001b[1;32m      7\u001b[0m \u001b[0;34m\u001b[0m\u001b[0m\n",
      "\u001b[0;31mNameError\u001b[0m: name 'dirlist' is not defined"
     ]
    }
   ],
   "source": [
    "import pandas as pd\n",
    "import os\n",
    "\n",
    "dirlist_sqli_java = os.listdir(\"datasets/sqli_java/\")\n",
    "print(\"[*] \" + str(len(dirlist)) + \" files are importing...\")\n",
    "\n",
    "\n",
    "df_list = []\n",
    "for file in dirlist_sqli_java:\n",
    "    df = pd.read_csv(\"datasets/sqli_java/\"+file, names=['code'])\n",
    "    df['vuln_label'] = 1  # Add another column filled with 1 (vulnerable code)\n",
    "    df['threat'] = 'sqli_java'\n",
    "    df_list.append(df)\n",
    "    \n",
    "for file in dirlist_sqli_java:\n",
    "    df = pd.read_csv(\"datasets/sqli_java/\"+file, names=['code'])\n",
    "    df['vuln_label'] = 0  # Add another column filled with 1 (vulnerable code)\n",
    "    df['threat'] = 'sqli_java'\n",
    "    df_list.append(df)\n",
    "df = pd.concat(df_list)\n",
    "\n",
    "\n",
    "\n",
    "print(df.iloc[0])\n",
    "df.head(10)"
   ]
  },
  {
   "cell_type": "code",
   "execution_count": 52,
   "metadata": {},
   "outputs": [
    {
     "data": {
      "text/plain": [
       "<1324797x13326 sparse matrix of type '<class 'numpy.int64'>'\n",
       "\twith 3113965 stored elements in Compressed Sparse Row format>"
      ]
     },
     "execution_count": 52,
     "metadata": {},
     "output_type": "execute_result"
    }
   ],
   "source": [
    "from sklearn.model_selection import train_test_split\n",
    "\n",
    "df2 = df\n",
    "\n",
    "# Slipt data\n",
    "\n",
    "code = df2['code'].values.astype('str')\n",
    "y = df2['vuln_label'].values\n",
    "\n",
    "code_train, code_test, y_train, y_test = train_test_split(\n",
    "            code, y, test_size=0.25, random_state=1000)\n",
    "\n",
    "\n",
    "# Vectorize\n",
    "from sklearn.feature_extraction.text import CountVectorizer\n",
    "\n",
    "vectorizer = CountVectorizer()\n",
    "vectorizer.fit(code_train)\n",
    "\n",
    "X_train = vectorizer.transform(code_train)\n",
    "X_test  = vectorizer.transform(code_test)\n",
    "X_train\n"
   ]
  },
  {
   "cell_type": "code",
   "execution_count": 53,
   "metadata": {},
   "outputs": [
    {
     "name": "stderr",
     "output_type": "stream",
     "text": [
      "/usr/local/lib/python3.6/dist-packages/sklearn/linear_model/logistic.py:432: FutureWarning: Default solver will be changed to 'lbfgs' in 0.22. Specify a solver to silence this warning.\n",
      "  FutureWarning)\n"
     ]
    },
    {
     "name": "stdout",
     "output_type": "stream",
     "text": [
      "Accuracy: 0.48420399502716266\n"
     ]
    }
   ],
   "source": [
    "from sklearn.linear_model import LogisticRegression\n",
    "\n",
    "model = LogisticRegression()\n",
    "model.fit(X_train, y_train)\n",
    "score = model.score(X_test, y_test)\n",
    "\n",
    "print(\"Accuracy:\", score)"
   ]
  },
  {
   "cell_type": "code",
   "execution_count": null,
   "metadata": {},
   "outputs": [],
   "source": []
  }
 ],
 "metadata": {
  "colab": {
   "name": "Code classification",
   "provenance": []
  },
  "kernelspec": {
   "display_name": "Python 3",
   "language": "python",
   "name": "python3"
  },
  "language_info": {
   "codemirror_mode": {
    "name": "ipython",
    "version": 3
   },
   "file_extension": ".py",
   "mimetype": "text/x-python",
   "name": "python",
   "nbconvert_exporter": "python",
   "pygments_lexer": "ipython3",
   "version": "3.6.6"
  }
 },
 "nbformat": 4,
 "nbformat_minor": 1
}
